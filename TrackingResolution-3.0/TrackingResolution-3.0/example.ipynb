{
 "cells": [
  {
   "cell_type": "code",
   "execution_count": 1,
   "metadata": {},
   "outputs": [
    {
     "name": "stdout",
     "output_type": "stream",
     "text": [
      "load successfully\n"
     ]
    }
   ],
   "source": [
    "#First, load the module\n",
    "%run trackingerror.py"
   ]
  },
  {
   "cell_type": "code",
   "execution_count": 2,
   "metadata": {},
   "outputs": [],
   "source": [
    "#Then, create the detector object and add the layer.\n",
    "#The first way to add a layer is by function addlayer(d,res_xy,res_z,position).\n",
    "#d is the thickness of the layer in radiation length X0.\n",
    "#res_xy is the resolution in the transverse plane and res_z is the resolution in the z direction.\n",
    "#The origin is set at the center.\n",
    "#Note: the units here are X0 for d, micrometer for res_xy and res_z and meter for position\n",
    "mydetector=Detector()\n",
    "mydetector.addlayer(0.0067,5.0e-5/sqrt(12),5.0e-5/sqrt(12),0.039)\n",
    "mydetector.addlayer(0.0067,5.0e-5/sqrt(12),5.0e-5/sqrt(12),0.099)\n",
    "mydetector.addlayer(0.0067,5.0e-5/sqrt(12),5.0e-5/sqrt(12),0.16)\n",
    "mydetector.addlayer(0.0067,5.0e-5/sqrt(12),5.0e-5/sqrt(12),0.22)\n",
    "mydetector.addlayer(0.0067,5.0e-5/sqrt(12),5.0e-5/sqrt(12),0.279)"
   ]
  },
  {
   "cell_type": "code",
   "execution_count": 3,
   "metadata": {},
   "outputs": [
    {
     "data": {
      "text/plain": [
       "{'sigma(pt)/pt': 0.015061252509956635,\n",
       " 'sigma(d)': 47.855936405679074,\n",
       " 'sigma(phi)': 0.0011741334164294588,\n",
       " 'sigma(z)': 42.60575132757389,\n",
       " 'sigma(theta)': 0.0009545855038347557}"
      ]
     },
     "execution_count": 3,
     "metadata": {},
     "output_type": "execute_result"
    }
   ],
   "source": [
    "#Then we can run the errorcalculation by function errorcalculation(pt,B,eta,m)\n",
    "#pt is the transverse momentum, B is the transverse magnetic field, eta is pseudorapidity, m is the particle mass.\n",
    "#Note: the units here are GeV/c for pt, T for B, and GeV/c^2 for m.\n",
    "#This will return a dict for the errors of five impact parameters.\n",
    "#The units in the output are GeV for pt, micrometer for d and z, radius for phi and theta.\n",
    "mydetector.errorcalculation(1,2)"
   ]
  },
  {
   "cell_type": "code",
   "execution_count": 4,
   "metadata": {},
   "outputs": [],
   "source": [
    "#Let's try again with another method to add layers.\n",
    "#We can create the layer object and use addlayer2 function to add the layer.\n",
    "Strip1=Layer(0.02,7.575e-5/sqrt(12),7.575e-5/sqrt(12),0.405)\n",
    "Strip2=Layer(0.02,7.575e-5/sqrt(12),7.575e-5/sqrt(12),0.562)\n",
    "Strip3=Layer(0.02,7.575e-5/sqrt(12),7.575e-5/sqrt(12),0.762)\n",
    "Strip4=Layer(0.02,7.575e-5/sqrt(12),7.575e-5/sqrt(12),1)\n",
    "mydetector.addlayer2(Strip1)\n",
    "mydetector.addlayer2(Strip2)\n",
    "mydetector.addlayer2(Strip3)\n",
    "mydetector.addlayer2(Strip4)"
   ]
  },
  {
   "cell_type": "code",
   "execution_count": 5,
   "metadata": {},
   "outputs": [
    {
     "data": {
      "text/plain": [
       "{'sigma(pt)/pt': 0.009759534163206214,\n",
       " 'sigma(d)': 52.487149199433794,\n",
       " 'sigma(phi)': 0.001262844210357546,\n",
       " 'sigma(z)': 73.16521630661987,\n",
       " 'sigma(theta)': 0.0007531308042021204}"
      ]
     },
     "execution_count": 5,
     "metadata": {},
     "output_type": "execute_result"
    }
   ],
   "source": [
    "#Let's now calculate the error at eta=1 for electron\n",
    "mydetector.errorcalculation(1,2,1,0.000511)"
   ]
  },
  {
   "cell_type": "code",
   "execution_count": null,
   "metadata": {},
   "outputs": [],
   "source": []
  }
 ],
 "metadata": {
  "kernelspec": {
   "display_name": "Python 3",
   "language": "python",
   "name": "python3"
  },
  "language_info": {
   "codemirror_mode": {
    "name": "ipython",
    "version": 3
   },
   "file_extension": ".py",
   "mimetype": "text/x-python",
   "name": "python",
   "nbconvert_exporter": "python",
   "pygments_lexer": "ipython3",
   "version": "3.6.8"
  }
 },
 "nbformat": 4,
 "nbformat_minor": 2
}

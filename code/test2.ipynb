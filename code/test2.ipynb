{
 "cells": [
  {
   "cell_type": "code",
   "execution_count": 2,
   "id": "51d7abf4",
   "metadata": {},
   "outputs": [
    {
     "data": {
      "text/plain": [
       "['event_id',\n",
       " 'v_x',\n",
       " 'v_y',\n",
       " 'v_z',\n",
       " 'v_px',\n",
       " 'v_py',\n",
       " 'v_pz',\n",
       " 'v_phi',\n",
       " 'v_eta',\n",
       " 't_X0',\n",
       " 't_L0',\n",
       " 'mat_x',\n",
       " 'mat_y',\n",
       " 'mat_z',\n",
       " 'mat_r',\n",
       " 'mat_dx',\n",
       " 'mat_dy',\n",
       " 'mat_dz',\n",
       " 'mat_step_length',\n",
       " 'mat_X0',\n",
       " 'mat_L0',\n",
       " 'mat_A',\n",
       " 'mat_Z',\n",
       " 'mat_rho',\n",
       " 'mat_sx',\n",
       " 'mat_sy',\n",
       " 'mat_sz',\n",
       " 'mat_ex',\n",
       " 'mat_ey',\n",
       " 'mat_ez']"
      ]
     },
     "execution_count": 2,
     "metadata": {},
     "output_type": "execute_result"
    }
   ],
   "source": [
    "import uproot\n",
    "import numpy as np\n",
    "import awkward as ak\n",
    "import matplotlib.pyplot as plt\n",
    "\n",
    "f = '/data/jlai/iris-hep/material-map/geant4_material_tracks.root'\n",
    "file = uproot.open(f)\n",
    "file['material-tracks'].keys()"
   ]
  },
  {
   "cell_type": "code",
   "execution_count": 6,
   "id": "a2483249",
   "metadata": {},
   "outputs": [
    {
     "data": {
      "text/html": [
       "<pre>[[23.6, 32.6, 32.8, 33.1, 37, 61.9, 61.9, ..., 536, 539, 541, 541, 544, 546],\n",
       " [23.6, 40.3, 47, 47, 47, 47.1, 53.7, ..., 63.4, 63.4, 73, 73, 73, 73, 93.6],\n",
       " [23.6, 37.5, 43.7, 43.7, 43.7, 43.7, ..., 79.2, 79.2, 79.3, 79.3, 79.3, 102],\n",
       " [23.6, 31.9, 32.1, 32.4, 33.8, 33.9, 34.2, ..., 385, 388, 389, 389, 391, 393],\n",
       " [23.6, 32, 32.2, 33.4, 33.5, ..., 3.43e+03, 3.44e+03, 3.47e+03, 3.49e+03],\n",
       " [23.6, 31.9, 32, 32.4, 34.1, ..., 3.42e+03, 3.42e+03, 3.45e+03, 3.47e+03],\n",
       " [23.6, 31.9, 32.1, 32.4, 37, ..., 3.34e+03, 3.35e+03, 3.35e+03, 3.37e+03],\n",
       " [23.6, 38.2, 44.5, 44.5, 44.5, 44.6, ..., 70.3, 70.5, 80.7, 80.7, 80.7, 103],\n",
       " [23.6, 33, 33.1, 33.5, 37, ..., 2.01e+03, 2.01e+03, 2.03e+03, 2.03e+03],\n",
       " [23.6, 32.9, 33, 33.4, 37, ..., 3.41e+03, 3.41e+03, 3.44e+03, 3.46e+03],\n",
       " ...,\n",
       " [23.6, 31.9, 32, 32.4, 34.2, ..., 3.41e+03, 3.42e+03, 3.45e+03, 3.47e+03],\n",
       " [23.6, 32.1, 32.2, 32.5, 33.5, ..., 2.21e+03, 2.21e+03, 2.22e+03, 2.23e+03],\n",
       " [23.6, 31.9, 32, 32.4, 34.8, 35.8, 37, ..., 402, 402, 405, 406, 406, 408, 410],\n",
       " [23.6, 31.9, 32.1, 32.4, 34, ..., 3.42e+03, 3.43e+03, 3.46e+03, 3.47e+03],\n",
       " [23.6, 31.9, 32, 32.4, 37, ..., 3.4e+03, 3.41e+03, 3.44e+03, 3.45e+03],\n",
       " [23.6, 32, 32.1, 32.5, 37, 67.8, 68, ..., 943, 944, 949, 952, 953, 958, 961],\n",
       " [23.6, 36.9, 43, 43, 43, 43, 43.1, ..., 58, 58, 58, 66.7, 66.7, 66.8, 85.6],\n",
       " [23.6, 32.1, 32.2, 33.2, 33.4, ..., 1.86e+03, 1.86e+03, 1.87e+03, 1.88e+03],\n",
       " [23.6, 31.9, 32, 32.4, 34.9, ..., 3.35e+03, 3.37e+03, 3.38e+03, 3.39e+03]]\n",
       "--------------------------------------------------------------------------------\n",
       "backend: cpu\n",
       "nbytes: 14.2 MB\n",
       "type: 10000 * var * float32</pre>"
      ],
      "text/plain": [
       "<Array [[23.6, 32.6, 32.8, ..., 544, 546], ...] type='10000 * var * float32'>"
      ]
     },
     "execution_count": 6,
     "metadata": {},
     "output_type": "execute_result"
    }
   ],
   "source": [
    "file['material-tracks']['mat_r'].array(library='ak')"
   ]
  },
  {
   "cell_type": "markdown",
   "id": "54c68712",
   "metadata": {},
   "source": []
  }
 ],
 "metadata": {
  "kernelspec": {
   "display_name": "Python 3",
   "language": "python",
   "name": "python3"
  },
  "language_info": {
   "codemirror_mode": {
    "name": "ipython",
    "version": 3
   },
   "file_extension": ".py",
   "mimetype": "text/x-python",
   "name": "python",
   "nbconvert_exporter": "python",
   "pygments_lexer": "ipython3",
   "version": "3.12.9"
  }
 },
 "nbformat": 4,
 "nbformat_minor": 5
}

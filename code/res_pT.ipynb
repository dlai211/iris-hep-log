{
 "cells": [
  {
   "cell_type": "code",
   "execution_count": 1,
   "id": "85c34e98",
   "metadata": {},
   "outputs": [],
   "source": [
    "import numpy as np\n",
    "import uproot, awkward as ak\n",
    "import matplotlib.pyplot as plt\n",
    "from math import sin, isnan, isfinite\n",
    "\n",
    "%matplotlib inline\n",
    "\n",
    "def ak_np(x):\n",
    "    \"\"\"awkward -> flat numpy, finite only\"\"\"\n",
    "    if isinstance(x, ak.Array):\n",
    "        x = ak.flatten(x, axis=None)\n",
    "        x = ak.to_numpy(x)\n",
    "    x = np.asarray(x)\n",
    "    return x[np.isfinite(x)]\n",
    "\n",
    "def stats(name, diff, tol):\n",
    "    if diff.size == 0:\n",
    "        print(f\"{name}: EMPTY\")\n",
    "        return\n",
    "    print(f\"{name}: N={diff.size:,}  mean={diff.mean():.3e}  std={diff.std(ddof=1):.3e}  \"\n",
    "          f\"max|Δ|={np.max(np.abs(diff)):.3e}  p99.9|Δ|={np.quantile(np.abs(diff), 0.999):.3e}\")\n",
    "    frac = np.mean(np.abs(diff) > tol)\n",
    "    print(f\"  > tol={tol:g}: {frac*100:.4f}%\")\n"
   ]
  },
  {
   "cell_type": "code",
   "execution_count": null,
   "id": "7fd3a626",
   "metadata": {},
   "outputs": [
    {
     "name": "stdout",
     "output_type": "stream",
     "text": [
      "Entries used: 921\n",
      "Δ absolute pT residual: N=921  mean=0.000e+00  std=0.000e+00  max|Δ|=0.000e+00  p99.9|Δ|=0.000e+00\n",
      "  > tol=1e-06: 0.0000%\n",
      "Δ relative pT residual: N=921  mean=0.000e+00  std=0.000e+00  max|Δ|=0.000e+00  p99.9|Δ|=0.000e+00\n",
      "  > tol=1e-06: 0.0000%\n",
      "Δ (branch rel − (branch abs / t_pt)): N=921  mean=0.000e+00  std=0.000e+00  max|Δ|=0.000e+00  p99.9|Δ|=0.000e+00\n",
      "  > tol=1e-08: 0.0000%\n"
     ]
    }
   ],
   "source": [
    "CKF_ROOT = \"/data/jlai/iris-hep/res_pT/output_pt_10/tracksummary_ckf.root\"\n",
    "\n",
    "with uproot.open(CKF_ROOT) as f:\n",
    "    t = f[\"tracksummary\"]\n",
    "    cols = [c for c in [\n",
    "        \"res_ePT_fit\",\"res_ePTrel_fit\",\n",
    "        \"eQOP_fit\",\"eTHETA_fit\",\n",
    "        \"t_pt\",\"t_p\",\"t_theta\",\n",
    "        \"truthMatched\",\"hasFittedParams\",\n",
    "    ] if c in t.keys()]\n",
    "    arr = t.arrays(cols, library=\"ak\")\n",
    "\n",
    "# mask: matched truth + has fitted params + finite inputs\n",
    "m = ak.Array(np.ones(len(arr[cols[0]]), dtype=bool))\n",
    "if \"truthMatched\" in arr.fields:\n",
    "    m = m & (arr[\"truthMatched\"] == 1)\n",
    "if \"hasFittedParams\" in arr.fields:\n",
    "    m = m & (arr[\"hasFittedParams\"] == True)\n",
    "\n",
    "if \"t_pt\" in arr.fields:\n",
    "    tpt = arr[\"t_pt\"]\n",
    "else:\n",
    "    tpt = arr[\"t_p\"] * np.sin(arr[\"t_theta\"]) if (\"t_p\" in arr.fields and \"t_theta\" in arr.fields) else None\n",
    "\n",
    "pt_rec = None\n",
    "if (\"eQOP_fit\" in arr.fields) and (\"eTHETA_fit\" in arr.fields):\n",
    "    p_rec  = abs(1.0 / arr[\"eQOP_fit\"])\n",
    "    pt_rec = p_rec * np.sin(arr[\"eTHETA_fit\"])\n",
    "\n",
    "if (tpt is not None) and (pt_rec is not None):\n",
    "    finite_mask = m & np.isfinite(tpt) & np.isfinite(pt_rec)\n",
    "else:\n",
    "    finite_mask = ak.Array(np.zeros(len(m), dtype=bool))\n",
    "\n",
    "res_pt_branch    = ak_np(arr[\"res_ePT_fit\"][finite_mask])         if \"res_ePT_fit\"    in arr.fields else np.array([])\n",
    "res_ptrel_branch = ak_np(arr[\"res_ePTrel_fit\"][finite_mask])      if \"res_ePTrel_fit\" in arr.fields else np.array([])\n",
    "tpt_np           = ak_np(tpt[finite_mask])                        if tpt is not None else np.array([])\n",
    "ptrec_np         = ak_np(pt_rec[finite_mask])                     if pt_rec is not None else np.array([])\n",
    "\n",
    "res_pt_derived    = ptrec_np - tpt_np\n",
    "res_ptrel_derived = np.divide(res_pt_derived, tpt_np, out=np.full_like(res_pt_derived, np.nan), where=tpt_np!=0)\n",
    "\n",
    "# diffs (branch - derived)\n",
    "d_abs = res_pt_branch - res_pt_derived\n",
    "d_rel = res_ptrel_branch - res_ptrel_derived\n",
    "\n",
    "# internal consistency check: res_ePTrel_fit ?= res_ePT_fit / t_pt\n",
    "res_ptrel_from_abs = np.divide(res_pt_branch, tpt_np, out=np.full_like(res_pt_branch, np.nan), where=tpt_np!=0)\n",
    "d_rel_internal = res_ptrel_branch - res_ptrel_from_abs\n",
    "\n",
    "# print quick stats\n",
    "print(f\"Entries used: {d_abs.size:,}\")\n",
    "stats(\"Δ absolute pT residual\", d_abs, tol=1e-6)   # GeV-ish tolerance\n",
    "stats(\"Δ relative pT residual\", d_rel, tol=1e-6)   # dimensionless\n",
    "stats(\"Δ (branch rel − (branch abs / t_pt))\", d_rel_internal, tol=1e-8)\n"
   ]
  },
  {
   "cell_type": "code",
   "execution_count": null,
   "id": "7b7bcb2c",
   "metadata": {},
   "outputs": [],
   "source": []
  }
 ],
 "metadata": {
  "kernelspec": {
   "display_name": "Python 3",
   "language": "python",
   "name": "python3"
  },
  "language_info": {
   "codemirror_mode": {
    "name": "ipython",
    "version": 3
   },
   "file_extension": ".py",
   "mimetype": "text/x-python",
   "name": "python",
   "nbconvert_exporter": "python",
   "pygments_lexer": "ipython3",
   "version": "3.12.9"
  }
 },
 "nbformat": 4,
 "nbformat_minor": 5
}

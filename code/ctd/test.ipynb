{
 "cells": [
  {
   "cell_type": "code",
   "execution_count": 2,
   "id": "2c345fcf",
   "metadata": {},
   "outputs": [
    {
     "data": {
      "text/plain": [
       "['event_id',\n",
       " 'particle_id',\n",
       " 'particle_type',\n",
       " 'process',\n",
       " 'vx',\n",
       " 'vy',\n",
       " 'vz',\n",
       " 'vt',\n",
       " 'px',\n",
       " 'py',\n",
       " 'pz',\n",
       " 'm',\n",
       " 'q',\n",
       " 'eta',\n",
       " 'phi',\n",
       " 'pt',\n",
       " 'p',\n",
       " 'vertex_primary',\n",
       " 'vertex_secondary',\n",
       " 'particle',\n",
       " 'generation',\n",
       " 'sub_particle',\n",
       " 'e_loss',\n",
       " 'total_x0',\n",
       " 'total_l0',\n",
       " 'number_of_hits',\n",
       " 'outcome']"
      ]
     },
     "execution_count": 2,
     "metadata": {},
     "output_type": "execute_result"
    }
   ],
   "source": [
    "import uproot\n",
    "import numpy as np\n",
    "import matplotlib.pyplot as plt\n",
    "import awkward as ak\n",
    "\n",
    "path = \"/data/jlai/iris-hep/mu_10GeV_geant4\"\n",
    "f = uproot.open(f\"{path}/particles_simulation.root\")\n",
    "f['particles'].keys()"
   ]
  },
  {
   "cell_type": "code",
   "execution_count": 3,
   "id": "f578b450",
   "metadata": {},
   "outputs": [
    {
     "data": {
      "text/html": [
       "<pre>[[10, 0.000714, 0.00092, 0.00111, ..., 4e-05, 0.000359, 2.64e-05, 1.92e-05]]\n",
       "----------------------------------------------------------------------------\n",
       "backend: cpu\n",
       "nbytes: 1.1 kB\n",
       "type: 1 * var * float32</pre>"
      ],
      "text/plain": [
       "<Array [[10, 0.000714, ..., 2.64e-05, 1.92e-05]] type='1 * var * float32'>"
      ]
     },
     "execution_count": 3,
     "metadata": {},
     "output_type": "execute_result"
    }
   ],
   "source": [
    "t = f['particles'].arrays(\"pt\", library=\"ak\")\n",
    "t['pt']"
   ]
  }
 ],
 "metadata": {
  "kernelspec": {
   "display_name": "Python 3",
   "language": "python",
   "name": "python3"
  },
  "language_info": {
   "codemirror_mode": {
    "name": "ipython",
    "version": 3
   },
   "file_extension": ".py",
   "mimetype": "text/x-python",
   "name": "python",
   "nbconvert_exporter": "python",
   "pygments_lexer": "ipython3",
   "version": "3.12.9"
  }
 },
 "nbformat": 4,
 "nbformat_minor": 5
}

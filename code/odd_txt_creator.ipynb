{
 "cells": [
  {
   "cell_type": "code",
   "execution_count": 1,
   "id": "4467bc76",
   "metadata": {},
   "outputs": [],
   "source": [
    "# import modules\n",
    "import uproot, sys, time, random, argparse, copy\n",
    "import numpy as np\n",
    "import matplotlib.pyplot as plt\n",
    "import pandas as pd\n",
    "import awkward as ak\n",
    "from tqdm import tqdm\n",
    "import seaborn as sns\n",
    "from matplotlib.ticker import FormatStrFormatter\n",
    "import matplotlib.ticker as ticker\n",
    "from collections import Counter\n",
    "from scipy.stats import norm\n",
    "from math import *\n",
    "\n",
    "# import trackingError function\n",
    "from trackingerror import Detector, inputfromfile\n",
    "\n",
    "# Set up plot defaults\n",
    "import matplotlib as mpl\n",
    "mpl.rcParams['figure.figsize'] = 14.0,10.0  # Roughly 11 cm wde by 8 cm high\n",
    "mpl.rcParams['font.size'] = 20.0 # Use 14 point font\n",
    "sns.set(style=\"whitegrid\")\n",
    "\n",
    "font_size = {\n",
    "    \"xlabel\": 17,\n",
    "    \"ylabel\": 17,\n",
    "    \"xticks\": 15,\n",
    "    \"yticks\": 15,\n",
    "    \"legend\": 13,\n",
    "    \"title\": 13,\n",
    "}\n",
    "\n",
    "plt.rcParams.update({\n",
    "    \"axes.labelsize\": font_size[\"xlabel\"],  # X and Y axis labels\n",
    "    \"xtick.labelsize\": font_size[\"xticks\"],  # X ticks\n",
    "    \"ytick.labelsize\": font_size[\"yticks\"],  # Y ticks\n",
    "    \"legend.fontsize\": font_size[\"legend\"]  # Legend\n",
    "})"
   ]
  },
  {
   "cell_type": "code",
   "execution_count": 5,
   "id": "ecd73806",
   "metadata": {},
   "outputs": [
    {
     "data": {
      "text/plain": [
       "<TH1F (version 3) at 0x7f6c4a2fc6e0>"
      ]
     },
     "execution_count": 5,
     "metadata": {},
     "output_type": "execute_result"
    }
   ],
   "source": [
    "file = uproot.open(\"/data/jlai/iris-hep/acts/thirdparty/OpenDataDetector/data/odd-material-maps.root\")\n",
    "file.keys()\n",
    "file['SurfaceMaterial_vol2_bou0_lay2_app0_sen0/min;1']"
   ]
  },
  {
   "cell_type": "code",
   "execution_count": 8,
   "id": "ce587dde",
   "metadata": {},
   "outputs": [
    {
     "name": "stdout",
     "output_type": "stream",
     "text": [
      "x = 0.0000, value = -3.1416e+00\n",
      "x = 1.0000, value = 4.0000e+01\n"
     ]
    }
   ],
   "source": [
    "file = uproot.open(\"/data/jlai/iris-hep/acts/thirdparty/OpenDataDetector/data/odd-material-maps.root\")\n",
    "hist = file[\"SurfaceMaterial_vol16_bou0_lay2_app0_sen0/min;1\"]\n",
    "\n",
    "# Get bin values and edges\n",
    "values = hist.values()         # Bin contents (array of y values)\n",
    "edges = hist.axis().edges()    # Bin edges (array of x bin edges)\n",
    "\n",
    "# Optional: get bin centers\n",
    "centers = 0.5 * (edges[:-1] + edges[1:])\n",
    "\n",
    "# Print a few\n",
    "for x, y in zip(centers, values):\n",
    "    print(f\"x = {x:.4f}, value = {y:.4e}\")\n"
   ]
  },
  {
   "cell_type": "code",
   "execution_count": 7,
   "id": "72a31216",
   "metadata": {},
   "outputs": [
    {
     "name": "stdout",
     "output_type": "stream",
     "text": [
      "x = 0.0000, value = 3.1416e+00\n",
      "x = 1.0000, value = 4.0010e+03\n"
     ]
    }
   ],
   "source": [
    "hist = file[\"SurfaceMaterial_vol2_bou0_lay2_app0_sen0/max;1\"]\n",
    "\n",
    "# Get bin values and edges\n",
    "values = hist.values()         # Bin contents (array of y values)\n",
    "edges = hist.axis().edges()    # Bin edges (array of x bin edges)\n",
    "\n",
    "# Optional: get bin centers\n",
    "centers = 0.5 * (edges[:-1] + edges[1:])\n",
    "\n",
    "# Print a few\n",
    "for x, y in zip(centers, values):\n",
    "    print(f\"x = {x:.4f}, value = {y:.4e}\")"
   ]
  },
  {
   "cell_type": "code",
   "execution_count": 29,
   "id": "a3b9825f",
   "metadata": {},
   "outputs": [
    {
     "name": "stdout",
     "output_type": "stream",
     "text": [
      "SurfaceMaterial_vol2_bou0_lay2_app0_sen0/t\n"
     ]
    },
    {
     "ename": "TypeError",
     "evalue": "ufunc 'bitwise_and' not supported for the input types, and the inputs could not be safely coerced to any supported types according to the casting rule ''safe''",
     "output_type": "error",
     "traceback": [
      "\u001b[31m---------------------------------------------------------------------------\u001b[39m",
      "\u001b[31mTypeError\u001b[39m                                 Traceback (most recent call last)",
      "\u001b[36mCell\u001b[39m\u001b[36m \u001b[39m\u001b[32mIn[29]\u001b[39m\u001b[32m, line 32\u001b[39m\n\u001b[32m     30\u001b[39m lay_num = i\n\u001b[32m     31\u001b[39m \u001b[38;5;28mprint\u001b[39m(name.format(lay_num, \u001b[33m\"\u001b[39m\u001b[33mt\u001b[39m\u001b[33m\"\u001b[39m))\n\u001b[32m---> \u001b[39m\u001b[32m32\u001b[39m mean = \u001b[43mwidth_calc\u001b[49m\u001b[43m(\u001b[49m\u001b[43mname\u001b[49m\u001b[43m.\u001b[49m\u001b[43mformat\u001b[49m\u001b[43m(\u001b[49m\u001b[43mlay_num\u001b[49m\u001b[43m,\u001b[49m\u001b[43m \u001b[49m\u001b[33;43m\"\u001b[39;49m\u001b[33;43mt\u001b[39;49m\u001b[33;43m\"\u001b[39;49m\u001b[43m)\u001b[49m\u001b[43m,\u001b[49m\u001b[43m \u001b[49m\u001b[43mname\u001b[49m\u001b[43m.\u001b[49m\u001b[43mformat\u001b[49m\u001b[43m(\u001b[49m\u001b[43mlay_num\u001b[49m\u001b[43m,\u001b[49m\u001b[43m \u001b[49m\u001b[33;43m\"\u001b[39;49m\u001b[33;43mx0\u001b[39;49m\u001b[33;43m\"\u001b[39;49m\u001b[43m)\u001b[49m\u001b[43m)\u001b[49m\n",
      "\u001b[36mCell\u001b[39m\u001b[36m \u001b[39m\u001b[32mIn[29]\u001b[39m\u001b[32m, line 6\u001b[39m, in \u001b[36mwidth_calc\u001b[39m\u001b[34m(key_t, key_x0)\u001b[39m\n\u001b[32m      3\u001b[39m values_t, values_x0 = hist_t.values(), hist_x0.values()\n\u001b[32m      5\u001b[39m \u001b[38;5;66;03m# Mask only NaNs; keep zero values\u001b[39;00m\n\u001b[32m----> \u001b[39m\u001b[32m6\u001b[39m valid_mask = \u001b[43m~\u001b[49m\u001b[43mnp\u001b[49m\u001b[43m.\u001b[49m\u001b[43misnan\u001b[49m\u001b[43m(\u001b[49m\u001b[43mvalues_t\u001b[49m\u001b[43m)\u001b[49m\u001b[43m \u001b[49m\u001b[43m&\u001b[49m\u001b[43m \u001b[49m\u001b[43m~\u001b[49m\u001b[43mnp\u001b[49m\u001b[43m.\u001b[49m\u001b[43misnan\u001b[49m\u001b[43m(\u001b[49m\u001b[43mvalues_x0\u001b[49m\u001b[43m)\u001b[49m\u001b[43m \u001b[49m\u001b[43m&\u001b[49m\u001b[43m \u001b[49m\u001b[43mvalues_x0\u001b[49m != \u001b[32m0\u001b[39m\n\u001b[32m      7\u001b[39m valid_t = values_t[valid_mask]\n\u001b[32m      8\u001b[39m valid_x0 = values_x0[valid_mask]\n",
      "\u001b[31mTypeError\u001b[39m: ufunc 'bitwise_and' not supported for the input types, and the inputs could not be safely coerced to any supported types according to the casting rule ''safe''"
     ]
    }
   ],
   "source": [
    "def width_calc(key_t, key_x0):\n",
    "    hist_t, hist_x0 = file[key_t], file[key_x0]\n",
    "    values_t, values_x0 = hist_t.values(), hist_x0.values()\n",
    "\n",
    "    # Mask only NaNs; keep zero values\n",
    "    valid_mask = ~np.isnan(values_t) & ~np.isnan(values_x0) & values_x0 != 0\n",
    "    valid_t = values_t[valid_mask]\n",
    "    valid_x0 = values_x0[valid_mask]\n",
    "\n",
    "    print(valid_t, valid_x0)\n",
    "\n",
    "    # Compute ratio, set to 0 where either valid_t or valid_x0 is 0\n",
    "    ratio = np.where((valid_t == 0), 0, valid_t / valid_x0)\n",
    "    # ratio = np.where((valid_t == 0) | (valid_x0 == 0), 0, valid_t / valid_x0)\n",
    "\n",
    "    if len(ratio) == 0:\n",
    "        mean = 0\n",
    "        std = 0\n",
    "    else:\n",
    "        mean = np.mean(ratio)\n",
    "        std = np.std(ratio)\n",
    "\n",
    "    print(f\"Key: {key_t}, Mean: {mean:.6f}, Std Dev: {std:.6f}, Non-zero bins: {np.count_nonzero(valid_t)}\\n\")\n",
    "    return mean\n",
    "\n",
    "\n",
    "with open(\"/data/jlai/iris-hep-log/TrackingResolution-3.0/TrackingResolution-3.0/myODD3.txt\", \"w\") as f:\n",
    "    for i in [2]: \n",
    "        name = \"SurfaceMaterial_vol2_bou0_lay{}_app0_sen0/{}\"\n",
    "        lay_num = i\n",
    "        print(name.format(lay_num, \"t\"))\n",
    "        mean = width_calc(name.format(lay_num, \"t\"), name.format(lay_num, \"x0\"))"
   ]
  },
  {
   "cell_type": "code",
   "execution_count": 3,
   "id": "c6036057",
   "metadata": {},
   "outputs": [
    {
     "name": "stdout",
     "output_type": "stream",
     "text": [
      "SurfaceMaterial_vol2_bou0_lay2_app0_sen0/t\n",
      "Key: SurfaceMaterial_vol2_bou0_lay2_app0_sen0/t, Mean: 0.002307, Std Dev: 0.000000, Non-zero bins: 288\n",
      "\n",
      "SurfaceMaterial_vol17_bou0_lay2_app2_sen0/t\n",
      "Key: SurfaceMaterial_vol17_bou0_lay2_app2_sen0/t, Mean: 0.013836, Std Dev: 0.000000, Non-zero bins: 28800\n",
      "\n",
      "SurfaceMaterial_vol17_bou0_lay4_app2_sen0/t\n",
      "Key: SurfaceMaterial_vol17_bou0_lay4_app2_sen0/t, Mean: 0.013970, Std Dev: 0.000000, Non-zero bins: 28797\n",
      "\n",
      "SurfaceMaterial_vol17_bou0_lay6_app2_sen0/t\n",
      "Key: SurfaceMaterial_vol17_bou0_lay6_app2_sen0/t, Mean: 0.014321, Std Dev: 0.000000, Non-zero bins: 28800\n",
      "\n",
      "SurfaceMaterial_vol17_bou0_lay8_app2_sen0/t\n",
      "Key: SurfaceMaterial_vol17_bou0_lay8_app2_sen0/t, Mean: 0.014750, Std Dev: 0.000000, Non-zero bins: 28798\n",
      "\n",
      "SurfaceMaterial_vol24_bou0_lay2_app1_sen0/t\n",
      "Key: SurfaceMaterial_vol24_bou0_lay2_app1_sen0/t, Mean: 0.017120, Std Dev: 0.000000, Non-zero bins: 20998\n",
      "\n",
      "SurfaceMaterial_vol24_bou0_lay4_app1_sen0/t\n",
      "Key: SurfaceMaterial_vol24_bou0_lay4_app1_sen0/t, Mean: 0.017284, Std Dev: 0.000000, Non-zero bins: 21119\n",
      "\n",
      "SurfaceMaterial_vol24_bou0_lay6_app1_sen0/t\n",
      "Key: SurfaceMaterial_vol24_bou0_lay6_app1_sen0/t, Mean: 0.017268, Std Dev: 0.000000, Non-zero bins: 21288\n",
      "\n",
      "SurfaceMaterial_vol24_bou0_lay8_app1_sen0/t\n",
      "Key: SurfaceMaterial_vol24_bou0_lay8_app1_sen0/t, Mean: 0.017473, Std Dev: 0.000000, Non-zero bins: 21308\n",
      "\n",
      "SurfaceMaterial_vol29_bou0_lay2_app1_sen0/t\n",
      "Key: SurfaceMaterial_vol29_bou0_lay2_app1_sen0/t, Mean: 0.029774, Std Dev: 0.000000, Non-zero bins: 35134\n",
      "\n",
      "SurfaceMaterial_vol29_bou0_lay4_app1_sen0/t\n",
      "Key: SurfaceMaterial_vol29_bou0_lay4_app1_sen0/t, Mean: 0.031990, Std Dev: 0.000000, Non-zero bins: 35363\n",
      "\n"
     ]
    }
   ],
   "source": [
    "file = uproot.open(\"/data/jlai/iris-hep/acts/thirdparty/OpenDataDetector/data/odd-material-maps.root\")\n",
    "# test_int = 0.004\n",
    "test_int = 0\n",
    "\n",
    "def width_calc(key_t, key_x0):\n",
    "    hist_t, hist_x0 = file[key_t], file[key_x0]\n",
    "    values_t, values_x0 = hist_t.values(), hist_x0.values()\n",
    "\n",
    "    # Mask only NaNs; keep zero values\n",
    "    valid_mask = ~np.isnan(values_t) & ~np.isnan(values_x0)\n",
    "    valid_t = values_t[valid_mask]\n",
    "    valid_x0 = values_x0[valid_mask]\n",
    "\n",
    "    # Compute ratio, set to 0 where either valid_t or valid_x0 is 0\n",
    "    mean = np.sum(valid_t) / np.sum(valid_x0)\n",
    "    std = 0\n",
    "    # ratio = np.where((valid_t == 0), 0, valid_t / valid_x0)\n",
    "    # ratio = np.where((valid_t == 0) | (valid_x0 == 0), 0, valid_t / valid_x0)\n",
    "\n",
    "    # if len(ratio) == 0:\n",
    "    #     mean = 0\n",
    "    #     std = 0\n",
    "    # else:\n",
    "    #     mean = np.mean(ratio)\n",
    "    #     std = np.std(ratio)\n",
    "\n",
    "    print(f\"Key: {key_t}, Mean: {mean:.6f}, Std Dev: {std:.6f}, Non-zero bins: {np.count_nonzero(valid_t)}\\n\")\n",
    "    return mean\n",
    "\n",
    "\n",
    "with open(\"/data/jlai/iris-hep-log/TrackingResolution-3.0/TrackingResolution-3.0/myODD3.txt\", \"w\") as f:\n",
    "    for i in [2]: \n",
    "        name = \"SurfaceMaterial_vol2_bou0_lay{}_app0_sen0/{}\"\n",
    "        lay_num = i\n",
    "        print(name.format(lay_num, \"t\"))\n",
    "        mean = width_calc(name.format(lay_num, \"t\"), name.format(lay_num, \"x0\"))\n",
    "        values = [mean,9999,9999,0.024]\n",
    "        f.write(\" \".join(str(v) for v in values) + \"\\n\")\n",
    "\n",
    "    position = [0.034, 0.07, 0.116, 0.172]\n",
    "    for i in range(4):\n",
    "        lay_num = 2*(i+1)\n",
    "        name = \"SurfaceMaterial_vol17_bou0_lay{}_app2_sen0/{}\"\n",
    "        print(name.format(lay_num, \"t\"))\n",
    "        mean = width_calc(name.format(lay_num, \"t\"), name.format(lay_num, \"x0\"))\n",
    "        values = [mean,0.015e-3,0.015e-3,position[i]-test_int]\n",
    "        f.write(\" \".join(str(v) for v in values) + \"\\n\")\n",
    "\n",
    "    position = [0.260, 0.360, 0.500, 0.660]\n",
    "    for i in range(4):\n",
    "        lay_num = 2*(i+1)\n",
    "        name = \"SurfaceMaterial_vol24_bou0_lay{}_app1_sen0/{}\"\n",
    "        print(name.format(lay_num, \"t\"))\n",
    "        mean = width_calc(name.format(lay_num, \"t\"), name.format(lay_num, \"x0\"))\n",
    "        values = [mean,0.043e-3,1.2e-3,position[i]-test_int]\n",
    "        f.write(\" \".join(str(v) for v in values) + \"\\n\")\n",
    "\n",
    "    position = [0.840, 1.020]\n",
    "    for i in range(2):\n",
    "        lay_num = 2*(i+1)\n",
    "        name = \"SurfaceMaterial_vol29_bou0_lay{}_app1_sen0/{}\"\n",
    "        print(name.format(lay_num, \"t\"))\n",
    "        mean = width_calc(name.format(lay_num, \"t\"), name.format(lay_num, \"x0\"))\n",
    "        values = [mean,0.072e-3,9999,position[i]-test_int]\n",
    "        f.write(\" \".join(str(v) for v in values) + \"\\n\")"
   ]
  },
  {
   "cell_type": "code",
   "execution_count": 5,
   "id": "cef2b701",
   "metadata": {},
   "outputs": [
    {
     "data": {
      "image/png": "[encoded data removed]",
      "text/plain": [
       "<Figure size 800x600 with 2 Axes>"
      ]
     },
     "metadata": {},
     "output_type": "display_data"
    }
   ],
   "source": [
    "hist = file[\"SurfaceMaterial_vol2_bou0_lay2_app0_sen0/x0\"]\n",
    "\n",
    "# Convert to numpy arrays\n",
    "values, edges_x, edges_y = hist.to_numpy()\n",
    "\n",
    "# Plot with matplotlib\n",
    "plt.figure(figsize=(8, 6))\n",
    "plt.pcolormesh(edges_x, edges_y, values.T, cmap=\"viridis\")\n",
    "plt.colorbar(label=\"x/X₀\")\n",
    "plt.xlabel(\"X (bins or mm)\")\n",
    "plt.ylabel(\"Y (bins or mm)\")\n",
    "plt.title(\"Material Map: x/X₀\")\n",
    "plt.tight_layout()\n",
    "plt.show()"
   ]
  },
  {
   "cell_type": "code",
   "execution_count": null,
   "id": "d5c1955a",
   "metadata": {},
   "outputs": [],
   "source": []
  }
 ],
 "metadata": {
  "kernelspec": {
   "display_name": "Python 3",
   "language": "python",
   "name": "python3"
  },
  "language_info": {
   "codemirror_mode": {
    "name": "ipython",
    "version": 3
   },
   "file_extension": ".py",
   "mimetype": "text/x-python",
   "name": "python",
   "nbconvert_exporter": "python",
   "pygments_lexer": "ipython3",
   "version": "3.12.9"
  }
 },
 "nbformat": 4,
 "nbformat_minor": 5
}

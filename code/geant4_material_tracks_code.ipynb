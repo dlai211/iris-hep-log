{
 "cells": [
  {
   "cell_type": "code",
   "execution_count": 1,
   "id": "1b456b4d",
   "metadata": {},
   "outputs": [
    {
     "data": {
      "text/plain": [
       "['event_id',\n",
       " 'v_x',\n",
       " 'v_y',\n",
       " 'v_z',\n",
       " 'v_px',\n",
       " 'v_py',\n",
       " 'v_pz',\n",
       " 'v_phi',\n",
       " 'v_eta',\n",
       " 't_X0',\n",
       " 't_L0',\n",
       " 'mat_x',\n",
       " 'mat_y',\n",
       " 'mat_z',\n",
       " 'mat_r',\n",
       " 'mat_dx',\n",
       " 'mat_dy',\n",
       " 'mat_dz',\n",
       " 'mat_step_length',\n",
       " 'mat_X0',\n",
       " 'mat_L0',\n",
       " 'mat_A',\n",
       " 'mat_Z',\n",
       " 'mat_rho',\n",
       " 'mat_sx',\n",
       " 'mat_sy',\n",
       " 'mat_sz',\n",
       " 'mat_ex',\n",
       " 'mat_ey',\n",
       " 'mat_ez']"
      ]
     },
     "execution_count": 1,
     "metadata": {},
     "output_type": "execute_result"
    }
   ],
   "source": [
    "import uproot\n",
    "import numpy as np\n",
    "import awkward as ak\n",
    "import matplotlib.pyplot as plt\n",
    "\n",
    "f = '/data/jlai/iris-hep/geant4_material_tracks.root'\n",
    "file = uproot.open(f)\n",
    "file['material-tracks'].keys()"
   ]
  },
  {
   "cell_type": "code",
   "execution_count": 11,
   "id": "015335ce",
   "metadata": {},
   "outputs": [
    {
     "data": {
      "text/html": [
       "<pre>[[0.00227, 0.00137, 0.000901, 0.00126, ..., 0.00708, 1.71, 0.57, 0.00708],\n",
       " [0.00227, 0.00137, 0.000905, 0.00097, ..., 0.0071, 1.71, 0.571, 0.0071],\n",
       " [0.00227, 0.00133, 0.000832, 0.00712, ..., 0.00711, 1.71, 0.572, 0.00711],\n",
       " [0.00227, 0.00134, 0.000883, 1.18e-05, ..., 0.00717, 1.73, 0.577, 0.00717],\n",
       " [0.00227, 0.00134, 0.000885, 0.0014, ..., 0.00717, 1.73, 0.577, 0.00717],\n",
       " [0.00227, 0.00134, 0.000881, 0.000459, ..., 0.00713, 1.72, 0.574, 0.00713],\n",
       " [0.00227, 0.00134, 0.000882, 0.0017, ..., 0.00707, 1.7, 0.569, 0.00707],\n",
       " [0.00227, 0.00134, 0.000882, 0.00029, ..., 0.00714, 1.72, 0.575, 0.00714],\n",
       " [0.00227, 0.000282, 0.00138, 0.000911, ..., 0.00712, 1.72, 0.573, 0.00712],\n",
       " [0.00227, 0.00138, 0.000909, 0.000743, ..., 0.00711, 1.71, 0.572, 0.00711],\n",
       " ...,\n",
       " [0.00227, 0.00133, 0.000881, 0.000559, ..., 0.00712, 1.72, 0.573, 0.00712],\n",
       " [0.00227, 0.00134, 0.000886, 0.00054, ..., 0.00705, 1.7, 0.568, 0.00705],\n",
       " [0.00227, 0.00133, 0.000881, 0.000629, ..., 0.00712, 1.72, 0.573, 0.00712],\n",
       " [0.00227, 0.00134, 0.000882, 0.000344, ..., 0.00714, 1.72, 0.575, 0.00714],\n",
       " [0.00227, 0.00133, 0.000881, 0.00108, ..., 0.00709, 1.71, 0.571, 0.00709],\n",
       " [0.00227, 0.00134, 0.000884, 0.00225, ..., 0.00706, 1.7, 0.568, 0.00706],\n",
       " [0.00227, 0.00137, 0.000902, 0.00122, ..., 0.00708, 1.71, 0.57, 0.00708],\n",
       " [0.00227, 0.00134, 0.000886, 0.00139, ..., 0.00715, 1.72, 0.575, 0.00715],\n",
       " [0.00227, 0.00133, 0.000791, 0.0335, ..., 0.00711, 1.71, 0.572, 0.00711]]\n",
       "----------------------------------------------------------------------------\n",
       "backend: cpu\n",
       "nbytes: 18.1 MB\n",
       "type: 10000 * var * float32</pre>"
      ],
      "text/plain": [
       "<Array [[0.00227, 0.00137, ..., 0.00708], ...] type='10000 * var * float32'>"
      ]
     },
     "execution_count": 11,
     "metadata": {},
     "output_type": "execute_result"
    }
   ],
   "source": [
    "tree = file['material-tracks']\n",
    "cols = [\n",
    "    \"v_eta\", \"v_phi\", \"t_X0\", \"mat_r\", \"mat_dz\", \"mat_step_length\", \"mat_X0\",\n",
    "    \"mat_Z\", \"mat_A\", 'v_px', 'v_py', 'v_pz'\n",
    "]\n",
    "arr = tree.arrays(cols, library=\"ak\")\n",
    "\n",
    "# arr['mat_step_length']\n",
    "arr['mat_step_length']/arr['mat_X0']\n",
    "# arr[\"mat_r\"]"
   ]
  },
  {
   "cell_type": "code",
   "execution_count": 12,
   "id": "301af6fd",
   "metadata": {},
   "outputs": [
    {
     "data": {
      "text/plain": [
       "(<Array [6.12e-17, 6.12e-17, ..., 6.12e-17, 6.12e-17] type='10000 * float32'>,\n",
       " <Array [1, 1, 1, 1, 1, 1, 1, ..., 1, 1, 1, 1, 1, 1, 1] type='10000 * float32'>)"
      ]
     },
     "execution_count": 12,
     "metadata": {},
     "output_type": "execute_result"
    }
   ],
   "source": [
    "# checking eta\n",
    "arr['v_eta'], np.sqrt(arr['v_px']**2 + arr['v_py']**2 + arr['v_pz']**2)"
   ]
  },
  {
   "cell_type": "code",
   "execution_count": null,
   "id": "3e707369",
   "metadata": {},
   "outputs": [],
   "source": []
  }
 ],
 "metadata": {
  "kernelspec": {
   "display_name": "Python 3",
   "language": "python",
   "name": "python3"
  },
  "language_info": {
   "codemirror_mode": {
    "name": "ipython",
    "version": 3
   },
   "file_extension": ".py",
   "mimetype": "text/x-python",
   "name": "python",
   "nbconvert_exporter": "python",
   "pygments_lexer": "ipython3",
   "version": "3.12.9"
  }
 },
 "nbformat": 4,
 "nbformat_minor": 5
}
